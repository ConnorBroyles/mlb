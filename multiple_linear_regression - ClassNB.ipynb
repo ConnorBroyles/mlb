{
 "cells": [
  {
   "cell_type": "markdown",
   "metadata": {
    "colab_type": "text",
    "id": "CazISR8X_HUG"
   },
   "source": [
    "# Multiple Linear Regression"
   ]
  },
  {
   "cell_type": "markdown",
   "metadata": {
    "colab_type": "text",
    "id": "pOyqYHTk_Q57"
   },
   "source": [
    "## Importing the libraries"
   ]
  },
  {
   "cell_type": "code",
   "execution_count": 1,
   "metadata": {},
   "outputs": [],
   "source": [
    "import numpy as np\n",
    "import matplotlib.pyplot as plt\n",
    "import pandas as pd\n",
    "import seaborn as sns\n",
    "from sklearn.impute import SimpleImputer\n",
    "from sklearn.model_selection import train_test_split"
   ]
  },
  {
   "cell_type": "markdown",
   "metadata": {
    "colab_type": "text",
    "id": "vgC61-ah_WIz"
   },
   "source": [
    "## Importing the dataset"
   ]
  },
  {
   "cell_type": "code",
   "execution_count": 2,
   "metadata": {},
   "outputs": [],
   "source": [
    "ds=pd.read_csv(\"insurance.csv\")"
   ]
  },
  {
   "cell_type": "code",
   "execution_count": 3,
   "metadata": {},
   "outputs": [
    {
     "data": {
      "text/plain": [
       "age         0\n",
       "sex         0\n",
       "bmi         9\n",
       "children    0\n",
       "smoker      0\n",
       "region      0\n",
       "charges     0\n",
       "dtype: int64"
      ]
     },
     "execution_count": 3,
     "metadata": {},
     "output_type": "execute_result"
    }
   ],
   "source": [
    "ds.isnull().sum()"
   ]
  },
  {
   "cell_type": "code",
   "execution_count": 4,
   "metadata": {},
   "outputs": [
    {
     "data": {
      "text/plain": [
       "<AxesSubplot:xlabel='bmi', ylabel='Count'>"
      ]
     },
     "execution_count": 4,
     "metadata": {},
     "output_type": "execute_result"
    },
    {
     "data": {
      "image/png": "[encoded data removed]",
      "text/plain": [
       "<Figure size 432x288 with 1 Axes>"
      ]
     },
     "metadata": {
      "needs_background": "light"
     },
     "output_type": "display_data"
    }
   ],
   "source": [
    "sns.histplot(ds['bmi'])"
   ]
  },
  {
   "cell_type": "markdown",
   "metadata": {},
   "source": [
    "## Update the Missing Values"
   ]
  },
  {
   "cell_type": "code",
   "execution_count": 5,
   "metadata": {},
   "outputs": [],
   "source": [
    "imputer=SimpleImputer(missing_values=np.nan, strategy='mean')\n",
    "ds['bmi']=imputer.fit_transform(ds[['bmi']])"
   ]
  },
  {
   "cell_type": "code",
   "execution_count": 6,
   "metadata": {},
   "outputs": [
    {
     "data": {
      "text/plain": [
       "age         0\n",
       "sex         0\n",
       "bmi         0\n",
       "children    0\n",
       "smoker      0\n",
       "region      0\n",
       "charges     0\n",
       "dtype: int64"
      ]
     },
     "execution_count": 6,
     "metadata": {},
     "output_type": "execute_result"
    }
   ],
   "source": [
    "ds.isnull().sum()"
   ]
  },
  {
   "cell_type": "markdown",
   "metadata": {},
   "source": [
    "## Split the dataset into independent and Dependent variables"
   ]
  },
  {
   "cell_type": "code",
   "execution_count": 7,
   "metadata": {},
   "outputs": [
    {
     "data": {
      "text/plain": [
       "Index(['age', 'sex', 'bmi', 'children', 'smoker', 'region', 'charges'], dtype='object')"
      ]
     },
     "execution_count": 7,
     "metadata": {},
     "output_type": "execute_result"
    }
   ],
   "source": [
    "ds.columns"
   ]
  },
  {
   "cell_type": "code",
   "execution_count": 8,
   "metadata": {},
   "outputs": [],
   "source": [
    "#X=ds.iloc[::-1].values\n",
    "#y=ds.iloc[:-1].values"
   ]
  },
  {
   "cell_type": "code",
   "execution_count": 9,
   "metadata": {},
   "outputs": [],
   "source": [
    "X=ds[['age', 'sex', 'bmi', 'children', 'smoker', 'region']]\n",
    "y=ds[['charges']]"
   ]
  },
  {
   "cell_type": "markdown",
   "metadata": {},
   "source": [
    "## Handling Categorical Variables"
   ]
  },
  {
   "cell_type": "code",
   "execution_count": 10,
   "metadata": {},
   "outputs": [],
   "source": [
    "X=pd.get_dummies(ds[['age','sex','bmi','children','smoker','region',]],drop_first=True)"
   ]
  },
  {
   "cell_type": "code",
   "execution_count": 11,
   "metadata": {},
   "outputs": [
    {
     "data": {
      "text/html": [
       "<div>\n",
       "<style scoped>\n",
       "    .dataframe tbody tr th:only-of-type {\n",
       "        vertical-align: middle;\n",
       "    }\n",
       "\n",
       "    .dataframe tbody tr th {\n",
       "        vertical-align: top;\n",
       "    }\n",
       "\n",
       "    .dataframe thead th {\n",
       "        text-align: right;\n",
       "    }\n",
       "</style>\n",
       "<table border=\"1\" class=\"dataframe\">\n",
       "  <thead>\n",
       "    <tr style=\"text-align: right;\">\n",
       "      <th></th>\n",
       "      <th>age</th>\n",
       "      <th>bmi</th>\n",
       "      <th>children</th>\n",
       "      <th>sex_male</th>\n",
       "      <th>smoker_yes</th>\n",
       "      <th>region_northwest</th>\n",
       "      <th>region_southeast</th>\n",
       "      <th>region_southwest</th>\n",
       "    </tr>\n",
       "  </thead>\n",
       "  <tbody>\n",
       "    <tr>\n",
       "      <th>0</th>\n",
       "      <td>19</td>\n",
       "      <td>27.900</td>\n",
       "      <td>0</td>\n",
       "      <td>0</td>\n",
       "      <td>1</td>\n",
       "      <td>0</td>\n",
       "      <td>0</td>\n",
       "      <td>1</td>\n",
       "    </tr>\n",
       "    <tr>\n",
       "      <th>1</th>\n",
       "      <td>18</td>\n",
       "      <td>33.770</td>\n",
       "      <td>1</td>\n",
       "      <td>1</td>\n",
       "      <td>0</td>\n",
       "      <td>0</td>\n",
       "      <td>1</td>\n",
       "      <td>0</td>\n",
       "    </tr>\n",
       "    <tr>\n",
       "      <th>2</th>\n",
       "      <td>28</td>\n",
       "      <td>33.000</td>\n",
       "      <td>3</td>\n",
       "      <td>1</td>\n",
       "      <td>0</td>\n",
       "      <td>0</td>\n",
       "      <td>1</td>\n",
       "      <td>0</td>\n",
       "    </tr>\n",
       "    <tr>\n",
       "      <th>3</th>\n",
       "      <td>33</td>\n",
       "      <td>22.705</td>\n",
       "      <td>0</td>\n",
       "      <td>1</td>\n",
       "      <td>0</td>\n",
       "      <td>1</td>\n",
       "      <td>0</td>\n",
       "      <td>0</td>\n",
       "    </tr>\n",
       "    <tr>\n",
       "      <th>4</th>\n",
       "      <td>32</td>\n",
       "      <td>28.880</td>\n",
       "      <td>0</td>\n",
       "      <td>1</td>\n",
       "      <td>0</td>\n",
       "      <td>1</td>\n",
       "      <td>0</td>\n",
       "      <td>0</td>\n",
       "    </tr>\n",
       "  </tbody>\n",
       "</table>\n",
       "</div>"
      ],
      "text/plain": [
       "   age     bmi  children  sex_male  smoker_yes  region_northwest  \\\n",
       "0   19  27.900         0         0           1                 0   \n",
       "1   18  33.770         1         1           0                 0   \n",
       "2   28  33.000         3         1           0                 0   \n",
       "3   33  22.705         0         1           0                 1   \n",
       "4   32  28.880         0         1           0                 1   \n",
       "\n",
       "   region_southeast  region_southwest  \n",
       "0                 0                 1  \n",
       "1                 1                 0  \n",
       "2                 1                 0  \n",
       "3                 0                 0  \n",
       "4                 0                 0  "
      ]
     },
     "execution_count": 11,
     "metadata": {},
     "output_type": "execute_result"
    }
   ],
   "source": [
    "X.head()\n",
    "\n",
    "#female = 0\n",
    "#male = 1\n",
    "\n",
    "#smoke yes = 1\n",
    "#smoke no = 0\n",
    "\n",
    "#northeast = 0 0 0\n",
    "#northwest = 1 0 0\n",
    "#southeast = 0 1 0\n",
    "#southwest = 0 0 1"
   ]
  },
  {
   "cell_type": "markdown",
   "metadata": {
    "colab_type": "text",
    "id": "WemVnqgeA70k"
   },
   "source": [
    "## Splitting the dataset into the Training set and Test set"
   ]
  },
  {
   "cell_type": "code",
   "execution_count": 12,
   "metadata": {},
   "outputs": [],
   "source": [
    "X_train,X_test,y_train,y_test=train_test_split(X,y,test_size=.2,random_state=0)"
   ]
  },
  {
   "cell_type": "code",
   "execution_count": null,
   "metadata": {},
   "outputs": [],
   "source": []
  },
  {
   "cell_type": "markdown",
   "metadata": {
    "colab_type": "text",
    "id": "k-McZVsQBINc"
   },
   "source": [
    "## Training the Multiple Linear Regression model on the Training set"
   ]
  },
  {
   "cell_type": "code",
   "execution_count": 13,
   "metadata": {},
   "outputs": [],
   "source": [
    "from sklearn.linear_model import LinearRegression"
   ]
  },
  {
   "cell_type": "code",
   "execution_count": 14,
   "metadata": {},
   "outputs": [
    {
     "data": {
      "text/plain": [
       "LinearRegression()"
      ]
     },
     "execution_count": 14,
     "metadata": {},
     "output_type": "execute_result"
    }
   ],
   "source": [
    "regressor=LinearRegression()\n",
    "regressor.fit(X_train,y_train)"
   ]
  },
  {
   "cell_type": "code",
   "execution_count": null,
   "metadata": {},
   "outputs": [],
   "source": []
  },
  {
   "cell_type": "markdown",
   "metadata": {},
   "source": [
    "## Intercept and Coefficient"
   ]
  },
  {
   "cell_type": "code",
   "execution_count": 15,
   "metadata": {},
   "outputs": [
    {
     "name": "stdout",
     "output_type": "stream",
     "text": [
      "Coefficioents [[  249.62124784   323.77531602   569.32626665   167.33140693\n",
      "  23394.51608691  -496.48378452  -977.49146762  -952.27496265]]\n"
     ]
    }
   ],
   "source": [
    "print(\"Coefficioents\",regressor.coef_)"
   ]
  },
  {
   "cell_type": "code",
   "execution_count": 16,
   "metadata": {},
   "outputs": [
    {
     "name": "stdout",
     "output_type": "stream",
     "text": [
      "Intercept [-11410.82511061]\n"
     ]
    }
   ],
   "source": [
    "print(\"Intercept\",regressor.intercept_)"
   ]
  },
  {
   "cell_type": "markdown",
   "metadata": {
    "colab_type": "text",
    "id": "xNkXL1YQBiBT"
   },
   "source": [
    "## Predicting the Test set results"
   ]
  },
  {
   "cell_type": "code",
   "execution_count": 17,
   "metadata": {},
   "outputs": [],
   "source": [
    "y_pred=regressor.predict(X_test)"
   ]
  },
  {
   "cell_type": "markdown",
   "metadata": {},
   "source": [
    "## Validation case scenario:\n",
    "#### case1. Predict how much a person of age 53, bmi 36.6, 3 children, male, non smoker, from south-west how much need to pay? "
   ]
  },
  {
   "cell_type": "code",
   "execution_count": 18,
   "metadata": {},
   "outputs": [
    {
     "data": {
      "text/plain": [
       "array([[14592.31283557]])"
      ]
     },
     "execution_count": 18,
     "metadata": {},
     "output_type": "execute_result"
    }
   ],
   "source": [
    "regressor.predict([[53,36.6,3,1,0,0,0,1]])"
   ]
  },
  {
   "cell_type": "markdown",
   "metadata": {},
   "source": [
    "#### case4. Predict how much a person of age 50, bmi 27.075, 1 children, female, nonsmoker, from north-east how much need to pay?  "
   ]
  },
  {
   "cell_type": "code",
   "execution_count": 19,
   "metadata": {},
   "outputs": [
    {
     "data": {
      "text/plain": [
       "array([[10405.78022933]])"
      ]
     },
     "execution_count": 19,
     "metadata": {},
     "output_type": "execute_result"
    }
   ],
   "source": [
    "regressor.predict([[50,27.075,1,0,0,0,0,0]])"
   ]
  },
  {
   "cell_type": "code",
   "execution_count": 20,
   "metadata": {},
   "outputs": [
    {
     "data": {
      "text/plain": [
       "array([[15389.94551897]])"
      ]
     },
     "execution_count": 20,
     "metadata": {},
     "output_type": "execute_result"
    }
   ],
   "source": [
    "#Case2\n",
    "regressor.predict([[62,37.4,0,1,0,0,0,1]])"
   ]
  },
  {
   "cell_type": "code",
   "execution_count": 21,
   "metadata": {},
   "outputs": [
    {
     "data": {
      "text/plain": [
       "array([[4008.68122986]])"
      ]
     },
     "execution_count": 21,
     "metadata": {},
     "output_type": "execute_result"
    }
   ],
   "source": [
    "#Case3\n",
    "regressor.predict([[19,35.4,0,1,0,0,0,1]])"
   ]
  },
  {
   "cell_type": "markdown",
   "metadata": {},
   "source": [
    "### Calculate R-Square"
   ]
  },
  {
   "cell_type": "code",
   "execution_count": 22,
   "metadata": {},
   "outputs": [
    {
     "name": "stdout",
     "output_type": "stream",
     "text": [
      "r2-score 0.7992495729209455\n"
     ]
    }
   ],
   "source": [
    "from sklearn.metrics import r2_score\n",
    "print('r2-score',r2_score(y_test,y_pred))"
   ]
  },
  {
   "cell_type": "code",
   "execution_count": null,
   "metadata": {},
   "outputs": [],
   "source": []
  },
  {
   "cell_type": "markdown",
   "metadata": {},
   "source": [
    "## Backward elimination is an advanced technique for feature selection to select optimal number of features. Sometimes using all features can cause slowness or other performance issues in your machine learning model.\n",
    "### Backward Elimination consists of the following steps:\n",
    "\n",
    "- Select a significance level to stay in the model (eg. SL = 0.05)\n",
    "- Fit the model with all possible predictors\n",
    "- Consider the predictor with the highest P-value. If P>SL, go to point d.\n",
    "- Remove the predictor\n",
    "- Fit the model without this variable and repeat the step c until the condition becomes false."
   ]
  },
  {
   "cell_type": "markdown",
   "metadata": {},
   "source": [
    "## Backward Elimination is irrelevant in Python while using Scikit-Learn library as it automatically takes care of selecting the statistically significant features when training the model to make accurate predictions.\n",
    "## In case of Statistical Model, you will need to do remove unnecessary variables manually."
   ]
  },
  {
   "cell_type": "code",
   "execution_count": 28,
   "metadata": {},
   "outputs": [],
   "source": [
    "import statsmodels.api as sm\n",
    "X=sm.add_constant(X)"
   ]
  },
  {
   "cell_type": "code",
   "execution_count": 38,
   "metadata": {},
   "outputs": [],
   "source": [
    "model=sm.OLS(y,X).fit()"
   ]
  },
  {
   "cell_type": "code",
   "execution_count": 39,
   "metadata": {},
   "outputs": [
    {
     "data": {
      "text/html": [
       "<table class=\"simpletable\">\n",
       "<caption>OLS Regression Results</caption>\n",
       "<tr>\n",
       "  <th>Dep. Variable:</th>         <td>charges</td>     <th>  R-squared:         </th> <td>   0.751</td> \n",
       "</tr>\n",
       "<tr>\n",
       "  <th>Model:</th>                   <td>OLS</td>       <th>  Adj. R-squared:    </th> <td>   0.749</td> \n",
       "</tr>\n",
       "<tr>\n",
       "  <th>Method:</th>             <td>Least Squares</td>  <th>  F-statistic:       </th> <td>   499.0</td> \n",
       "</tr>\n",
       "<tr>\n",
       "  <th>Date:</th>             <td>Thu, 17 Mar 2022</td> <th>  Prob (F-statistic):</th>  <td>  0.00</td>  \n",
       "</tr>\n",
       "<tr>\n",
       "  <th>Time:</th>                 <td>13:11:20</td>     <th>  Log-Likelihood:    </th> <td> -13509.</td> \n",
       "</tr>\n",
       "<tr>\n",
       "  <th>No. Observations:</th>      <td>  1334</td>      <th>  AIC:               </th> <td>2.704e+04</td>\n",
       "</tr>\n",
       "<tr>\n",
       "  <th>Df Residuals:</th>          <td>  1325</td>      <th>  BIC:               </th> <td>2.708e+04</td>\n",
       "</tr>\n",
       "<tr>\n",
       "  <th>Df Model:</th>              <td>     8</td>      <th>                     </th>     <td> </td>    \n",
       "</tr>\n",
       "<tr>\n",
       "  <th>Covariance Type:</th>      <td>nonrobust</td>    <th>                     </th>     <td> </td>    \n",
       "</tr>\n",
       "</table>\n",
       "<table class=\"simpletable\">\n",
       "<tr>\n",
       "          <td></td>            <th>coef</th>     <th>std err</th>      <th>t</th>      <th>P>|t|</th>  <th>[0.025</th>    <th>0.975]</th>  \n",
       "</tr>\n",
       "<tr>\n",
       "  <th>const</th>            <td>  -1.2e+04</td> <td>  992.860</td> <td>  -12.088</td> <td> 0.000</td> <td>-1.39e+04</td> <td>-1.01e+04</td>\n",
       "</tr>\n",
       "<tr>\n",
       "  <th>age</th>              <td>  257.2548</td> <td>   11.938</td> <td>   21.549</td> <td> 0.000</td> <td>  233.835</td> <td>  280.675</td>\n",
       "</tr>\n",
       "<tr>\n",
       "  <th>bmi</th>              <td>  340.8240</td> <td>   28.730</td> <td>   11.863</td> <td> 0.000</td> <td>  284.462</td> <td>  397.186</td>\n",
       "</tr>\n",
       "<tr>\n",
       "  <th>children</th>         <td>  470.3125</td> <td>  138.201</td> <td>    3.403</td> <td> 0.001</td> <td>  199.195</td> <td>  741.430</td>\n",
       "</tr>\n",
       "<tr>\n",
       "  <th>sex_male</th>         <td> -118.0621</td> <td>  333.860</td> <td>   -0.354</td> <td> 0.724</td> <td> -773.015</td> <td>  536.891</td>\n",
       "</tr>\n",
       "<tr>\n",
       "  <th>smoker_yes</th>       <td> 2.385e+04</td> <td>  413.840</td> <td>   57.621</td> <td> 0.000</td> <td>  2.3e+04</td> <td> 2.47e+04</td>\n",
       "</tr>\n",
       "<tr>\n",
       "  <th>region_northwest</th> <td> -356.3989</td> <td>  477.269</td> <td>   -0.747</td> <td> 0.455</td> <td>-1292.685</td> <td>  579.887</td>\n",
       "</tr>\n",
       "<tr>\n",
       "  <th>region_southeast</th> <td>-1042.5342</td> <td>  479.697</td> <td>   -2.173</td> <td> 0.030</td> <td>-1983.582</td> <td> -101.486</td>\n",
       "</tr>\n",
       "<tr>\n",
       "  <th>region_southwest</th> <td> -920.0916</td> <td>  479.778</td> <td>   -1.918</td> <td> 0.055</td> <td>-1861.298</td> <td>   21.115</td>\n",
       "</tr>\n",
       "</table>\n",
       "<table class=\"simpletable\">\n",
       "<tr>\n",
       "  <th>Omnibus:</th>       <td>298.053</td> <th>  Durbin-Watson:     </th> <td>   2.090</td> \n",
       "</tr>\n",
       "<tr>\n",
       "  <th>Prob(Omnibus):</th> <td> 0.000</td>  <th>  Jarque-Bera (JB):  </th> <td> 709.326</td> \n",
       "</tr>\n",
       "<tr>\n",
       "  <th>Skew:</th>          <td> 1.208</td>  <th>  Prob(JB):          </th> <td>9.37e-155</td>\n",
       "</tr>\n",
       "<tr>\n",
       "  <th>Kurtosis:</th>      <td> 5.632</td>  <th>  Cond. No.          </th> <td>    312.</td> \n",
       "</tr>\n",
       "</table><br/><br/>Notes:<br/>[1] Standard Errors assume that the covariance matrix of the errors is correctly specified."
      ],
      "text/plain": [
       "<class 'statsmodels.iolib.summary.Summary'>\n",
       "\"\"\"\n",
       "                            OLS Regression Results                            \n",
       "==============================================================================\n",
       "Dep. Variable:                charges   R-squared:                       0.751\n",
       "Model:                            OLS   Adj. R-squared:                  0.749\n",
       "Method:                 Least Squares   F-statistic:                     499.0\n",
       "Date:                Thu, 17 Mar 2022   Prob (F-statistic):               0.00\n",
       "Time:                        13:11:20   Log-Likelihood:                -13509.\n",
       "No. Observations:                1334   AIC:                         2.704e+04\n",
       "Df Residuals:                    1325   BIC:                         2.708e+04\n",
       "Df Model:                           8                                         \n",
       "Covariance Type:            nonrobust                                         \n",
       "====================================================================================\n",
       "                       coef    std err          t      P>|t|      [0.025      0.975]\n",
       "------------------------------------------------------------------------------------\n",
       "const              -1.2e+04    992.860    -12.088      0.000   -1.39e+04   -1.01e+04\n",
       "age                257.2548     11.938     21.549      0.000     233.835     280.675\n",
       "bmi                340.8240     28.730     11.863      0.000     284.462     397.186\n",
       "children           470.3125    138.201      3.403      0.001     199.195     741.430\n",
       "sex_male          -118.0621    333.860     -0.354      0.724    -773.015     536.891\n",
       "smoker_yes        2.385e+04    413.840     57.621      0.000     2.3e+04    2.47e+04\n",
       "region_northwest  -356.3989    477.269     -0.747      0.455   -1292.685     579.887\n",
       "region_southeast -1042.5342    479.697     -2.173      0.030   -1983.582    -101.486\n",
       "region_southwest  -920.0916    479.778     -1.918      0.055   -1861.298      21.115\n",
       "==============================================================================\n",
       "Omnibus:                      298.053   Durbin-Watson:                   2.090\n",
       "Prob(Omnibus):                  0.000   Jarque-Bera (JB):              709.326\n",
       "Skew:                           1.208   Prob(JB):                    9.37e-155\n",
       "Kurtosis:                       5.632   Cond. No.                         312.\n",
       "==============================================================================\n",
       "\n",
       "Notes:\n",
       "[1] Standard Errors assume that the covariance matrix of the errors is correctly specified.\n",
       "\"\"\""
      ]
     },
     "execution_count": 39,
     "metadata": {},
     "output_type": "execute_result"
    }
   ],
   "source": [
    "model.summary()"
   ]
  },
  {
   "cell_type": "code",
   "execution_count": 41,
   "metadata": {},
   "outputs": [
    {
     "data": {
      "text/plain": [
       "Index(['const', 'age', 'bmi', 'children', 'sex_male', 'smoker_yes',\n",
       "       'region_northwest', 'region_southeast', 'region_southwest'],\n",
       "      dtype='object')"
      ]
     },
     "execution_count": 41,
     "metadata": {},
     "output_type": "execute_result"
    }
   ],
   "source": [
    "X.columns"
   ]
  },
  {
   "cell_type": "code",
   "execution_count": 43,
   "metadata": {},
   "outputs": [],
   "source": [
    "X1=X[['const', 'age', 'bmi', 'children','smoker_yes',\n",
    "       'region_northwest', 'region_southeast', 'region_southwest']]"
   ]
  },
  {
   "cell_type": "code",
   "execution_count": 45,
   "metadata": {},
   "outputs": [
    {
     "data": {
      "text/html": [
       "<table class=\"simpletable\">\n",
       "<caption>OLS Regression Results</caption>\n",
       "<tr>\n",
       "  <th>Dep. Variable:</th>         <td>charges</td>     <th>  R-squared:         </th> <td>   0.751</td> \n",
       "</tr>\n",
       "<tr>\n",
       "  <th>Model:</th>                   <td>OLS</td>       <th>  Adj. R-squared:    </th> <td>   0.749</td> \n",
       "</tr>\n",
       "<tr>\n",
       "  <th>Method:</th>             <td>Least Squares</td>  <th>  F-statistic:       </th> <td>   570.7</td> \n",
       "</tr>\n",
       "<tr>\n",
       "  <th>Date:</th>             <td>Thu, 17 Mar 2022</td> <th>  Prob (F-statistic):</th>  <td>  0.00</td>  \n",
       "</tr>\n",
       "<tr>\n",
       "  <th>Time:</th>                 <td>13:14:31</td>     <th>  Log-Likelihood:    </th> <td> -13509.</td> \n",
       "</tr>\n",
       "<tr>\n",
       "  <th>No. Observations:</th>      <td>  1334</td>      <th>  AIC:               </th> <td>2.703e+04</td>\n",
       "</tr>\n",
       "<tr>\n",
       "  <th>Df Residuals:</th>          <td>  1326</td>      <th>  BIC:               </th> <td>2.708e+04</td>\n",
       "</tr>\n",
       "<tr>\n",
       "  <th>Df Model:</th>              <td>     7</td>      <th>                     </th>     <td> </td>    \n",
       "</tr>\n",
       "<tr>\n",
       "  <th>Covariance Type:</th>      <td>nonrobust</td>    <th>                     </th>     <td> </td>    \n",
       "</tr>\n",
       "</table>\n",
       "<table class=\"simpletable\">\n",
       "<tr>\n",
       "          <td></td>            <th>coef</th>     <th>std err</th>      <th>t</th>      <th>P>|t|</th>  <th>[0.025</th>    <th>0.975]</th>  \n",
       "</tr>\n",
       "<tr>\n",
       "  <th>const</th>            <td>-1.205e+04</td> <td>  983.430</td> <td>  -12.252</td> <td> 0.000</td> <td> -1.4e+04</td> <td>-1.01e+04</td>\n",
       "</tr>\n",
       "<tr>\n",
       "  <th>age</th>              <td>  257.3600</td> <td>   11.931</td> <td>   21.571</td> <td> 0.000</td> <td>  233.955</td> <td>  280.765</td>\n",
       "</tr>\n",
       "<tr>\n",
       "  <th>bmi</th>              <td>  340.3759</td> <td>   28.693</td> <td>   11.863</td> <td> 0.000</td> <td>  284.088</td> <td>  396.664</td>\n",
       "</tr>\n",
       "<tr>\n",
       "  <th>children</th>         <td>  469.4637</td> <td>  138.135</td> <td>    3.399</td> <td> 0.001</td> <td>  198.477</td> <td>  740.450</td>\n",
       "</tr>\n",
       "<tr>\n",
       "  <th>smoker_yes</th>       <td> 2.383e+04</td> <td>  412.513</td> <td>   57.780</td> <td> 0.000</td> <td>  2.3e+04</td> <td> 2.46e+04</td>\n",
       "</tr>\n",
       "<tr>\n",
       "  <th>region_northwest</th> <td> -355.5249</td> <td>  477.105</td> <td>   -0.745</td> <td> 0.456</td> <td>-1291.489</td> <td>  580.439</td>\n",
       "</tr>\n",
       "<tr>\n",
       "  <th>region_southeast</th> <td>-1041.8798</td> <td>  479.535</td> <td>   -2.173</td> <td> 0.030</td> <td>-1982.609</td> <td> -101.150</td>\n",
       "</tr>\n",
       "<tr>\n",
       "  <th>region_southwest</th> <td> -918.8281</td> <td>  479.606</td> <td>   -1.916</td> <td> 0.056</td> <td>-1859.698</td> <td>   22.041</td>\n",
       "</tr>\n",
       "</table>\n",
       "<table class=\"simpletable\">\n",
       "<tr>\n",
       "  <th>Omnibus:</th>       <td>298.385</td> <th>  Durbin-Watson:     </th> <td>   2.091</td> \n",
       "</tr>\n",
       "<tr>\n",
       "  <th>Prob(Omnibus):</th> <td> 0.000</td>  <th>  Jarque-Bera (JB):  </th> <td> 710.791</td> \n",
       "</tr>\n",
       "<tr>\n",
       "  <th>Skew:</th>          <td> 1.209</td>  <th>  Prob(JB):          </th> <td>4.51e-155</td>\n",
       "</tr>\n",
       "<tr>\n",
       "  <th>Kurtosis:</th>      <td> 5.635</td>  <th>  Cond. No.          </th> <td>    309.</td> \n",
       "</tr>\n",
       "</table><br/><br/>Notes:<br/>[1] Standard Errors assume that the covariance matrix of the errors is correctly specified."
      ],
      "text/plain": [
       "<class 'statsmodels.iolib.summary.Summary'>\n",
       "\"\"\"\n",
       "                            OLS Regression Results                            \n",
       "==============================================================================\n",
       "Dep. Variable:                charges   R-squared:                       0.751\n",
       "Model:                            OLS   Adj. R-squared:                  0.749\n",
       "Method:                 Least Squares   F-statistic:                     570.7\n",
       "Date:                Thu, 17 Mar 2022   Prob (F-statistic):               0.00\n",
       "Time:                        13:14:31   Log-Likelihood:                -13509.\n",
       "No. Observations:                1334   AIC:                         2.703e+04\n",
       "Df Residuals:                    1326   BIC:                         2.708e+04\n",
       "Df Model:                           7                                         \n",
       "Covariance Type:            nonrobust                                         \n",
       "====================================================================================\n",
       "                       coef    std err          t      P>|t|      [0.025      0.975]\n",
       "------------------------------------------------------------------------------------\n",
       "const            -1.205e+04    983.430    -12.252      0.000    -1.4e+04   -1.01e+04\n",
       "age                257.3600     11.931     21.571      0.000     233.955     280.765\n",
       "bmi                340.3759     28.693     11.863      0.000     284.088     396.664\n",
       "children           469.4637    138.135      3.399      0.001     198.477     740.450\n",
       "smoker_yes        2.383e+04    412.513     57.780      0.000     2.3e+04    2.46e+04\n",
       "region_northwest  -355.5249    477.105     -0.745      0.456   -1291.489     580.439\n",
       "region_southeast -1041.8798    479.535     -2.173      0.030   -1982.609    -101.150\n",
       "region_southwest  -918.8281    479.606     -1.916      0.056   -1859.698      22.041\n",
       "==============================================================================\n",
       "Omnibus:                      298.385   Durbin-Watson:                   2.091\n",
       "Prob(Omnibus):                  0.000   Jarque-Bera (JB):              710.791\n",
       "Skew:                           1.209   Prob(JB):                    4.51e-155\n",
       "Kurtosis:                       5.635   Cond. No.                         309.\n",
       "==============================================================================\n",
       "\n",
       "Notes:\n",
       "[1] Standard Errors assume that the covariance matrix of the errors is correctly specified.\n",
       "\"\"\""
      ]
     },
     "execution_count": 45,
     "metadata": {},
     "output_type": "execute_result"
    }
   ],
   "source": [
    "sm.OLS(y,X1).fit().summary()"
   ]
  },
  {
   "cell_type": "code",
   "execution_count": 46,
   "metadata": {},
   "outputs": [],
   "source": [
    "X2=X[['const', 'age', 'bmi', 'children','smoker_yes', 'region_southeast', 'region_southwest']]"
   ]
  },
  {
   "cell_type": "code",
   "execution_count": 47,
   "metadata": {},
   "outputs": [
    {
     "data": {
      "text/html": [
       "<table class=\"simpletable\">\n",
       "<caption>OLS Regression Results</caption>\n",
       "<tr>\n",
       "  <th>Dep. Variable:</th>         <td>charges</td>     <th>  R-squared:         </th> <td>   0.751</td> \n",
       "</tr>\n",
       "<tr>\n",
       "  <th>Model:</th>                   <td>OLS</td>       <th>  Adj. R-squared:    </th> <td>   0.750</td> \n",
       "</tr>\n",
       "<tr>\n",
       "  <th>Method:</th>             <td>Least Squares</td>  <th>  F-statistic:       </th> <td>   665.9</td> \n",
       "</tr>\n",
       "<tr>\n",
       "  <th>Date:</th>             <td>Thu, 17 Mar 2022</td> <th>  Prob (F-statistic):</th>  <td>  0.00</td>  \n",
       "</tr>\n",
       "<tr>\n",
       "  <th>Time:</th>                 <td>13:16:22</td>     <th>  Log-Likelihood:    </th> <td> -13509.</td> \n",
       "</tr>\n",
       "<tr>\n",
       "  <th>No. Observations:</th>      <td>  1334</td>      <th>  AIC:               </th> <td>2.703e+04</td>\n",
       "</tr>\n",
       "<tr>\n",
       "  <th>Df Residuals:</th>          <td>  1327</td>      <th>  BIC:               </th> <td>2.707e+04</td>\n",
       "</tr>\n",
       "<tr>\n",
       "  <th>Df Model:</th>              <td>     6</td>      <th>                     </th>     <td> </td>    \n",
       "</tr>\n",
       "<tr>\n",
       "  <th>Covariance Type:</th>      <td>nonrobust</td>    <th>                     </th>     <td> </td>    \n",
       "</tr>\n",
       "</table>\n",
       "<table class=\"simpletable\">\n",
       "<tr>\n",
       "          <td></td>            <th>coef</th>     <th>std err</th>      <th>t</th>      <th>P>|t|</th>  <th>[0.025</th>    <th>0.975]</th>  \n",
       "</tr>\n",
       "<tr>\n",
       "  <th>const</th>            <td>-1.223e+04</td> <td>  954.195</td> <td>  -12.812</td> <td> 0.000</td> <td>-1.41e+04</td> <td>-1.04e+04</td>\n",
       "</tr>\n",
       "<tr>\n",
       "  <th>age</th>              <td>  257.3855</td> <td>   11.929</td> <td>   21.577</td> <td> 0.000</td> <td>  233.984</td> <td>  280.787</td>\n",
       "</tr>\n",
       "<tr>\n",
       "  <th>bmi</th>              <td>  340.3554</td> <td>   28.688</td> <td>   11.864</td> <td> 0.000</td> <td>  284.077</td> <td>  396.634</td>\n",
       "</tr>\n",
       "<tr>\n",
       "  <th>children</th>         <td>  466.4161</td> <td>  138.051</td> <td>    3.379</td> <td> 0.001</td> <td>  195.594</td> <td>  737.238</td>\n",
       "</tr>\n",
       "<tr>\n",
       "  <th>smoker_yes</th>       <td> 2.384e+04</td> <td>  412.311</td> <td>   57.827</td> <td> 0.000</td> <td>  2.3e+04</td> <td> 2.47e+04</td>\n",
       "</tr>\n",
       "<tr>\n",
       "  <th>region_southeast</th> <td> -864.0674</td> <td>  415.880</td> <td>   -2.078</td> <td> 0.038</td> <td>-1679.922</td> <td>  -48.213</td>\n",
       "</tr>\n",
       "<tr>\n",
       "  <th>region_southwest</th> <td> -740.2565</td> <td>  415.376</td> <td>   -1.782</td> <td> 0.075</td> <td>-1555.122</td> <td>   74.609</td>\n",
       "</tr>\n",
       "</table>\n",
       "<table class=\"simpletable\">\n",
       "<tr>\n",
       "  <th>Omnibus:</th>       <td>297.785</td> <th>  Durbin-Watson:     </th> <td>   2.093</td> \n",
       "</tr>\n",
       "<tr>\n",
       "  <th>Prob(Omnibus):</th> <td> 0.000</td>  <th>  Jarque-Bera (JB):  </th> <td> 706.924</td> \n",
       "</tr>\n",
       "<tr>\n",
       "  <th>Skew:</th>          <td> 1.208</td>  <th>  Prob(JB):          </th> <td>3.11e-154</td>\n",
       "</tr>\n",
       "<tr>\n",
       "  <th>Kurtosis:</th>      <td> 5.623</td>  <th>  Cond. No.          </th> <td>    295.</td> \n",
       "</tr>\n",
       "</table><br/><br/>Notes:<br/>[1] Standard Errors assume that the covariance matrix of the errors is correctly specified."
      ],
      "text/plain": [
       "<class 'statsmodels.iolib.summary.Summary'>\n",
       "\"\"\"\n",
       "                            OLS Regression Results                            \n",
       "==============================================================================\n",
       "Dep. Variable:                charges   R-squared:                       0.751\n",
       "Model:                            OLS   Adj. R-squared:                  0.750\n",
       "Method:                 Least Squares   F-statistic:                     665.9\n",
       "Date:                Thu, 17 Mar 2022   Prob (F-statistic):               0.00\n",
       "Time:                        13:16:22   Log-Likelihood:                -13509.\n",
       "No. Observations:                1334   AIC:                         2.703e+04\n",
       "Df Residuals:                    1327   BIC:                         2.707e+04\n",
       "Df Model:                           6                                         \n",
       "Covariance Type:            nonrobust                                         \n",
       "====================================================================================\n",
       "                       coef    std err          t      P>|t|      [0.025      0.975]\n",
       "------------------------------------------------------------------------------------\n",
       "const            -1.223e+04    954.195    -12.812      0.000   -1.41e+04   -1.04e+04\n",
       "age                257.3855     11.929     21.577      0.000     233.984     280.787\n",
       "bmi                340.3554     28.688     11.864      0.000     284.077     396.634\n",
       "children           466.4161    138.051      3.379      0.001     195.594     737.238\n",
       "smoker_yes        2.384e+04    412.311     57.827      0.000     2.3e+04    2.47e+04\n",
       "region_southeast  -864.0674    415.880     -2.078      0.038   -1679.922     -48.213\n",
       "region_southwest  -740.2565    415.376     -1.782      0.075   -1555.122      74.609\n",
       "==============================================================================\n",
       "Omnibus:                      297.785   Durbin-Watson:                   2.093\n",
       "Prob(Omnibus):                  0.000   Jarque-Bera (JB):              706.924\n",
       "Skew:                           1.208   Prob(JB):                    3.11e-154\n",
       "Kurtosis:                       5.623   Cond. No.                         295.\n",
       "==============================================================================\n",
       "\n",
       "Notes:\n",
       "[1] Standard Errors assume that the covariance matrix of the errors is correctly specified.\n",
       "\"\"\""
      ]
     },
     "execution_count": 47,
     "metadata": {},
     "output_type": "execute_result"
    }
   ],
   "source": [
    "sm.OLS(y,X2).fit().summary()"
   ]
  },
  {
   "cell_type": "code",
   "execution_count": 48,
   "metadata": {},
   "outputs": [],
   "source": [
    "X3=X[['const', 'age', 'bmi', 'children','smoker_yes', 'region_southeast',]]"
   ]
  },
  {
   "cell_type": "code",
   "execution_count": 49,
   "metadata": {},
   "outputs": [
    {
     "data": {
      "text/html": [
       "<table class=\"simpletable\">\n",
       "<caption>OLS Regression Results</caption>\n",
       "<tr>\n",
       "  <th>Dep. Variable:</th>         <td>charges</td>     <th>  R-squared:         </th> <td>   0.750</td> \n",
       "</tr>\n",
       "<tr>\n",
       "  <th>Model:</th>                   <td>OLS</td>       <th>  Adj. R-squared:    </th> <td>   0.749</td> \n",
       "</tr>\n",
       "<tr>\n",
       "  <th>Method:</th>             <td>Least Squares</td>  <th>  F-statistic:       </th> <td>   797.2</td> \n",
       "</tr>\n",
       "<tr>\n",
       "  <th>Date:</th>             <td>Thu, 17 Mar 2022</td> <th>  Prob (F-statistic):</th>  <td>  0.00</td>  \n",
       "</tr>\n",
       "<tr>\n",
       "  <th>Time:</th>                 <td>13:17:27</td>     <th>  Log-Likelihood:    </th> <td> -13511.</td> \n",
       "</tr>\n",
       "<tr>\n",
       "  <th>No. Observations:</th>      <td>  1334</td>      <th>  AIC:               </th> <td>2.703e+04</td>\n",
       "</tr>\n",
       "<tr>\n",
       "  <th>Df Residuals:</th>          <td>  1328</td>      <th>  BIC:               </th> <td>2.706e+04</td>\n",
       "</tr>\n",
       "<tr>\n",
       "  <th>Df Model:</th>              <td>     5</td>      <th>                     </th>     <td> </td>    \n",
       "</tr>\n",
       "<tr>\n",
       "  <th>Covariance Type:</th>      <td>nonrobust</td>    <th>                     </th>     <td> </td>    \n",
       "</tr>\n",
       "</table>\n",
       "<table class=\"simpletable\">\n",
       "<tr>\n",
       "          <td></td>            <th>coef</th>     <th>std err</th>      <th>t</th>      <th>P>|t|</th>  <th>[0.025</th>    <th>0.975]</th>  \n",
       "</tr>\n",
       "<tr>\n",
       "  <th>const</th>            <td>-1.234e+04</td> <td>  952.824</td> <td>  -12.951</td> <td> 0.000</td> <td>-1.42e+04</td> <td>-1.05e+04</td>\n",
       "</tr>\n",
       "<tr>\n",
       "  <th>age</th>              <td>  257.5041</td> <td>   11.938</td> <td>   21.570</td> <td> 0.000</td> <td>  234.084</td> <td>  280.924</td>\n",
       "</tr>\n",
       "<tr>\n",
       "  <th>bmi</th>              <td>  335.8256</td> <td>   28.598</td> <td>   11.743</td> <td> 0.000</td> <td>  279.722</td> <td>  391.929</td>\n",
       "</tr>\n",
       "<tr>\n",
       "  <th>children</th>         <td>  463.0809</td> <td>  138.152</td> <td>    3.352</td> <td> 0.001</td> <td>  192.062</td> <td>  734.100</td>\n",
       "</tr>\n",
       "<tr>\n",
       "  <th>smoker_yes</th>       <td> 2.385e+04</td> <td>  412.620</td> <td>   57.805</td> <td> 0.000</td> <td>  2.3e+04</td> <td> 2.47e+04</td>\n",
       "</tr>\n",
       "<tr>\n",
       "  <th>region_southeast</th> <td> -602.1337</td> <td>  389.361</td> <td>   -1.546</td> <td> 0.122</td> <td>-1365.963</td> <td>  161.696</td>\n",
       "</tr>\n",
       "</table>\n",
       "<table class=\"simpletable\">\n",
       "<tr>\n",
       "  <th>Omnibus:</th>       <td>300.456</td> <th>  Durbin-Watson:     </th> <td>   2.091</td> \n",
       "</tr>\n",
       "<tr>\n",
       "  <th>Prob(Omnibus):</th> <td> 0.000</td>  <th>  Jarque-Bera (JB):  </th> <td> 716.837</td> \n",
       "</tr>\n",
       "<tr>\n",
       "  <th>Skew:</th>          <td> 1.216</td>  <th>  Prob(JB):          </th> <td>2.19e-156</td>\n",
       "</tr>\n",
       "<tr>\n",
       "  <th>Kurtosis:</th>      <td> 5.642</td>  <th>  Cond. No.          </th> <td>    295.</td> \n",
       "</tr>\n",
       "</table><br/><br/>Notes:<br/>[1] Standard Errors assume that the covariance matrix of the errors is correctly specified."
      ],
      "text/plain": [
       "<class 'statsmodels.iolib.summary.Summary'>\n",
       "\"\"\"\n",
       "                            OLS Regression Results                            \n",
       "==============================================================================\n",
       "Dep. Variable:                charges   R-squared:                       0.750\n",
       "Model:                            OLS   Adj. R-squared:                  0.749\n",
       "Method:                 Least Squares   F-statistic:                     797.2\n",
       "Date:                Thu, 17 Mar 2022   Prob (F-statistic):               0.00\n",
       "Time:                        13:17:27   Log-Likelihood:                -13511.\n",
       "No. Observations:                1334   AIC:                         2.703e+04\n",
       "Df Residuals:                    1328   BIC:                         2.706e+04\n",
       "Df Model:                           5                                         \n",
       "Covariance Type:            nonrobust                                         \n",
       "====================================================================================\n",
       "                       coef    std err          t      P>|t|      [0.025      0.975]\n",
       "------------------------------------------------------------------------------------\n",
       "const            -1.234e+04    952.824    -12.951      0.000   -1.42e+04   -1.05e+04\n",
       "age                257.5041     11.938     21.570      0.000     234.084     280.924\n",
       "bmi                335.8256     28.598     11.743      0.000     279.722     391.929\n",
       "children           463.0809    138.152      3.352      0.001     192.062     734.100\n",
       "smoker_yes        2.385e+04    412.620     57.805      0.000     2.3e+04    2.47e+04\n",
       "region_southeast  -602.1337    389.361     -1.546      0.122   -1365.963     161.696\n",
       "==============================================================================\n",
       "Omnibus:                      300.456   Durbin-Watson:                   2.091\n",
       "Prob(Omnibus):                  0.000   Jarque-Bera (JB):              716.837\n",
       "Skew:                           1.216   Prob(JB):                    2.19e-156\n",
       "Kurtosis:                       5.642   Cond. No.                         295.\n",
       "==============================================================================\n",
       "\n",
       "Notes:\n",
       "[1] Standard Errors assume that the covariance matrix of the errors is correctly specified.\n",
       "\"\"\""
      ]
     },
     "execution_count": 49,
     "metadata": {},
     "output_type": "execute_result"
    }
   ],
   "source": [
    "sm.OLS(y,X3).fit().summary()"
   ]
  },
  {
   "cell_type": "code",
   "execution_count": 50,
   "metadata": {},
   "outputs": [],
   "source": [
    "X4=X[['const', 'age', 'bmi', 'children','smoker_yes',]]"
   ]
  },
  {
   "cell_type": "code",
   "execution_count": 51,
   "metadata": {},
   "outputs": [
    {
     "data": {
      "text/html": [
       "<table class=\"simpletable\">\n",
       "<caption>OLS Regression Results</caption>\n",
       "<tr>\n",
       "  <th>Dep. Variable:</th>         <td>charges</td>     <th>  R-squared:         </th> <td>   0.750</td> \n",
       "</tr>\n",
       "<tr>\n",
       "  <th>Model:</th>                   <td>OLS</td>       <th>  Adj. R-squared:    </th> <td>   0.749</td> \n",
       "</tr>\n",
       "<tr>\n",
       "  <th>Method:</th>             <td>Least Squares</td>  <th>  F-statistic:       </th> <td>   994.9</td> \n",
       "</tr>\n",
       "<tr>\n",
       "  <th>Date:</th>             <td>Thu, 17 Mar 2022</td> <th>  Prob (F-statistic):</th>  <td>  0.00</td>  \n",
       "</tr>\n",
       "<tr>\n",
       "  <th>Time:</th>                 <td>13:17:58</td>     <th>  Log-Likelihood:    </th> <td> -13512.</td> \n",
       "</tr>\n",
       "<tr>\n",
       "  <th>No. Observations:</th>      <td>  1334</td>      <th>  AIC:               </th> <td>2.703e+04</td>\n",
       "</tr>\n",
       "<tr>\n",
       "  <th>Df Residuals:</th>          <td>  1329</td>      <th>  BIC:               </th> <td>2.706e+04</td>\n",
       "</tr>\n",
       "<tr>\n",
       "  <th>Df Model:</th>              <td>     4</td>      <th>                     </th>     <td> </td>    \n",
       "</tr>\n",
       "<tr>\n",
       "  <th>Covariance Type:</th>      <td>nonrobust</td>    <th>                     </th>     <td> </td>    \n",
       "</tr>\n",
       "</table>\n",
       "<table class=\"simpletable\">\n",
       "<tr>\n",
       "       <td></td>         <th>coef</th>     <th>std err</th>      <th>t</th>      <th>P>|t|</th>  <th>[0.025</th>    <th>0.975]</th>  \n",
       "</tr>\n",
       "<tr>\n",
       "  <th>const</th>      <td>-1.216e+04</td> <td>  945.827</td> <td>  -12.851</td> <td> 0.000</td> <td> -1.4e+04</td> <td>-1.03e+04</td>\n",
       "</tr>\n",
       "<tr>\n",
       "  <th>age</th>        <td>  258.2273</td> <td>   11.935</td> <td>   21.636</td> <td> 0.000</td> <td>  234.813</td> <td>  281.641</td>\n",
       "</tr>\n",
       "<tr>\n",
       "  <th>bmi</th>        <td>  323.6029</td> <td>   27.499</td> <td>   11.768</td> <td> 0.000</td> <td>  269.657</td> <td>  377.549</td>\n",
       "</tr>\n",
       "<tr>\n",
       "  <th>children</th>   <td>  468.9803</td> <td>  138.171</td> <td>    3.394</td> <td> 0.001</td> <td>  197.923</td> <td>  740.038</td>\n",
       "</tr>\n",
       "<tr>\n",
       "  <th>smoker_yes</th> <td> 2.381e+04</td> <td>  411.865</td> <td>   57.804</td> <td> 0.000</td> <td>  2.3e+04</td> <td> 2.46e+04</td>\n",
       "</tr>\n",
       "</table>\n",
       "<table class=\"simpletable\">\n",
       "<tr>\n",
       "  <th>Omnibus:</th>       <td>298.996</td> <th>  Durbin-Watson:     </th> <td>   2.089</td> \n",
       "</tr>\n",
       "<tr>\n",
       "  <th>Prob(Omnibus):</th> <td> 0.000</td>  <th>  Jarque-Bera (JB):  </th> <td> 711.979</td> \n",
       "</tr>\n",
       "<tr>\n",
       "  <th>Skew:</th>          <td> 1.211</td>  <th>  Prob(JB):          </th> <td>2.49e-155</td>\n",
       "</tr>\n",
       "<tr>\n",
       "  <th>Kurtosis:</th>      <td> 5.634</td>  <th>  Cond. No.          </th> <td>    292.</td> \n",
       "</tr>\n",
       "</table><br/><br/>Notes:<br/>[1] Standard Errors assume that the covariance matrix of the errors is correctly specified."
      ],
      "text/plain": [
       "<class 'statsmodels.iolib.summary.Summary'>\n",
       "\"\"\"\n",
       "                            OLS Regression Results                            \n",
       "==============================================================================\n",
       "Dep. Variable:                charges   R-squared:                       0.750\n",
       "Model:                            OLS   Adj. R-squared:                  0.749\n",
       "Method:                 Least Squares   F-statistic:                     994.9\n",
       "Date:                Thu, 17 Mar 2022   Prob (F-statistic):               0.00\n",
       "Time:                        13:17:58   Log-Likelihood:                -13512.\n",
       "No. Observations:                1334   AIC:                         2.703e+04\n",
       "Df Residuals:                    1329   BIC:                         2.706e+04\n",
       "Df Model:                           4                                         \n",
       "Covariance Type:            nonrobust                                         \n",
       "==============================================================================\n",
       "                 coef    std err          t      P>|t|      [0.025      0.975]\n",
       "------------------------------------------------------------------------------\n",
       "const      -1.216e+04    945.827    -12.851      0.000    -1.4e+04   -1.03e+04\n",
       "age          258.2273     11.935     21.636      0.000     234.813     281.641\n",
       "bmi          323.6029     27.499     11.768      0.000     269.657     377.549\n",
       "children     468.9803    138.171      3.394      0.001     197.923     740.038\n",
       "smoker_yes  2.381e+04    411.865     57.804      0.000     2.3e+04    2.46e+04\n",
       "==============================================================================\n",
       "Omnibus:                      298.996   Durbin-Watson:                   2.089\n",
       "Prob(Omnibus):                  0.000   Jarque-Bera (JB):              711.979\n",
       "Skew:                           1.211   Prob(JB):                    2.49e-155\n",
       "Kurtosis:                       5.634   Cond. No.                         292.\n",
       "==============================================================================\n",
       "\n",
       "Notes:\n",
       "[1] Standard Errors assume that the covariance matrix of the errors is correctly specified.\n",
       "\"\"\""
      ]
     },
     "execution_count": 51,
     "metadata": {},
     "output_type": "execute_result"
    }
   ],
   "source": [
    "sm.OLS(y,X4).fit().summary()"
   ]
  },
  {
   "cell_type": "code",
   "execution_count": null,
   "metadata": {},
   "outputs": [],
   "source": []
  }
 ],
 "metadata": {
  "colab": {
   "authorship_tag": "ABX9TyPhYhte6t7H4wEK4xPpDWT7",
   "name": "Multiple Linear Regression",
   "provenance": [],
   "toc_visible": true
  },
  "kernelspec": {
   "display_name": "Python 3",
   "language": "python",
   "name": "python3"
  },
  "language_info": {
   "codemirror_mode": {
    "name": "ipython",
    "version": 3
   },
   "file_extension": ".py",
   "mimetype": "text/x-python",
   "name": "python",
   "nbconvert_exporter": "python",
   "pygments_lexer": "ipython3",
   "version": "3.8.8"
  }
 },
 "nbformat": 4,
 "nbformat_minor": 1
}
